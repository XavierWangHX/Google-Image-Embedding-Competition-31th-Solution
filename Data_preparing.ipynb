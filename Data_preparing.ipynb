{
 "cells": [
  {
   "cell_type": "markdown",
   "id": "ca8f57b3-c28a-4bba-ba3f-0bf0ab85f824",
   "metadata": {},
   "source": [
    "### 数据采样"
   ]
  },
  {
   "cell_type": "code",
   "execution_count": null,
   "id": "17beed5f-7961-4720-88d9-273ce8178599",
   "metadata": {},
   "outputs": [],
   "source": [
    "import pandas as pd\n",
    "from tqdm import tqdm\n",
    "df = pd.read_csv('new_data_224_mini.csv')\n",
    "new_groups = []\n",
    "for label, group in tqdm(df.groupby('new_labels')):\n",
    "    group = group.reset_index(drop=True)\n",
    "    if len(group)>55:\n",
    "        group = group.sample(55)\n",
    "    new_groups.append(group)\n",
    "new_df = pd.concat(new_groups, axis=0).reset_index(drop=True)\n",
    "print('num:', df.shape[0], 'classes:', df['new_labels'].nunique())\n",
    "print('----->>>')\n",
    "print('num:', new_df.shape[0], 'classes:', new_df['new_labels'].nunique())\n",
    "new_df.to_csv('new_data_224_mini.csv')\n",
    "new_df.head(5)"
   ]
  },
  {
   "cell_type": "markdown",
   "id": "c566b65d-6ca2-4b92-ad1d-9e9d35b5483b",
   "metadata": {},
   "source": [
    "### 制作新标签"
   ]
  },
  {
   "cell_type": "code",
   "execution_count": null,
   "id": "5398aaee-74f4-4baf-acc7-ccc518c21213",
   "metadata": {},
   "outputs": [],
   "source": [
    "from glob import glob\n",
    "import pandas as pd\n",
    "from sklearn.model_selection import StratifiedKFold\n",
    "from tqdm import tqdm\n",
    "df = pd.read_csv('new_data_224_mini.csv')\n",
    "df.drop(columns=['Unnamed: 0'], inplace=True)\n",
    "labels = list(df['new_labels'].unique())\n",
    "for idx,row in tqdm(df.iterrows(), total=df.shape[0]):\n",
    "    df.loc[idx, 'new_labels'] = labels.index(df.loc[idx, 'new_labels'])\n",
    "df['fold'] = 1\n",
    "split = list(StratifiedKFold(n_splits=30, shuffle=True, random_state=999).split(df, df['new_labels']))\n",
    "for fold, (train_idx, valid_idx) in enumerate(split):\n",
    "    df.loc[valid_idx, 'fold'] = fold\n",
    "df.to_csv('new_data_224_mini_fold.csv', index=False)\n",
    "print(df.shape[0], df.nunique())\n",
    "df.head(10)"
   ]
  },
  {
   "cell_type": "code",
   "execution_count": null,
   "id": "6ae91a0f-28e1-4882-9fd9-43f6641fa085",
   "metadata": {},
   "outputs": [],
   "source": []
  }
 ],
 "metadata": {
  "kernelspec": {
   "display_name": "Python 3 (ipykernel)",
   "language": "python",
   "name": "python3"
  },
  "language_info": {
   "codemirror_mode": {
    "name": "ipython",
    "version": 3
   },
   "file_extension": ".py",
   "mimetype": "text/x-python",
   "name": "python",
   "nbconvert_exporter": "python",
   "pygments_lexer": "ipython3",
   "version": "3.8.10"
  }
 },
 "nbformat": 4,
 "nbformat_minor": 5
}
